{
  "nbformat": 4,
  "nbformat_minor": 0,
  "metadata": {
    "colab": {
      "provenance": []
    },
    "kernelspec": {
      "name": "python3",
      "display_name": "Python 3"
    },
    "language_info": {
      "name": "python"
    }
  },
  "cells": [
    {
      "cell_type": "markdown",
      "source": [
        "#Importing the dataset"
      ],
      "metadata": {
        "id": "-cBstocUJWja"
      }
    },
    {
      "cell_type": "code",
      "execution_count": 15,
      "metadata": {
        "colab": {
          "base_uri": "https://localhost:8080/"
        },
        "id": "HkZC5onTRBpl",
        "outputId": "db167b17-9406-4be2-8841-c3bb362cb20f"
      },
      "outputs": [
        {
          "output_type": "stream",
          "name": "stdout",
          "text": [
            "Mounted at /content/drive\n"
          ]
        }
      ],
      "source": [
        "from google.colab import drive\n",
        "drive.mount('/content/drive',force_remount=True)"
      ]
    },
    {
      "cell_type": "code",
      "source": [
        "!pip install unrar\n",
        "!unrar x /content/drive/MyDrive/tsk4/task4/data.rar/"
      ],
      "metadata": {
        "id": "ej_qOJNhRQCh",
        "colab": {
          "base_uri": "https://localhost:8080/"
        },
        "outputId": "562c1a73-f456-4fc6-9345-aa2b9e2f9fd8"
      },
      "execution_count": 16,
      "outputs": [
        {
          "output_type": "stream",
          "name": "stdout",
          "text": [
            "Looking in indexes: https://pypi.org/simple, https://us-python.pkg.dev/colab-wheels/public/simple/\n",
            "Requirement already satisfied: unrar in /usr/local/lib/python3.8/dist-packages (0.4)\n",
            "\n",
            "UNRAR 5.50 freeware      Copyright (c) 1993-2017 Alexander Roshal\n",
            "\n",
            "\n",
            "Extracting from /content/drive/MyDrive/tsk4/task4/data.rar\n",
            "\n",
            "\n",
            "Would you like to replace the existing file data/bengali/bengali1.jpg\n",
            " 25626 bytes, modified on 2019-10-30 18:08\n",
            "with a new one\n",
            " 25626 bytes, modified on 2019-10-30 18:08\n",
            "\n",
            "[Y]es, [N]o, [A]ll, n[E]ver, [R]ename, [Q]uit \n",
            "User break\n",
            "\n",
            "User break\n"
          ]
        }
      ]
    },
    {
      "cell_type": "markdown",
      "source": [
        "#Data Augmentation"
      ],
      "metadata": {
        "id": "YTLt4M-XJeLz"
      }
    },
    {
      "cell_type": "code",
      "source": [
        "import pandas as pd\n",
        "import numpy as np\n",
        "import tensorflow as tf\n",
        "import cv2\n",
        "from tensorflow.keras.preprocessing.image import ImageDataGenerator, array_to_img, img_to_array, load_img\n",
        "from PIL import Image"
      ],
      "metadata": {
        "id": "9a3GpbGLZ98w"
      },
      "execution_count": 17,
      "outputs": []
    },
    {
      "cell_type": "code",
      "source": [
        "datagen = ImageDataGenerator(\n",
        "        rotation_range=40,\n",
        "        width_shift_range=0.2,\n",
        "        height_shift_range=0.2,\n",
        "        shear_range=0.25,\n",
        "        brightness_range = [0.2,1.8],\n",
        "        zoom_range=0.2,\n",
        "        horizontal_flip=True,\n",
        "        fill_mode='constant')"
      ],
      "metadata": {
        "id": "gh4qD1a5Riia"
      },
      "execution_count": 18,
      "outputs": []
    },
    {
      "cell_type": "code",
      "source": [
        "import os.path\n",
        "from os import path\n",
        "\n",
        "if path.exists('/content/drive/MyDrive/tsk4/task4/hindi_aug') == False:\n",
        "  os.mkdir('/content/drive/MyDrive/tsk4/task4/Augmented_Images/Hindi_augg')\n",
        "if path.exists('/content/drive/MyDrive/tsk4/task4/kannada_aug') == False:\n",
        "  os.mkdir('/content/drive/MyDrive/tsk4/task4/Augmented_Images/Kannada_augg')\n",
        "if path.exists('/content/drive/MyDrive/tsk4/task4/tamil_aug') == False:\n",
        "  os.mkdir('/content/drive/MyDrive/tsk4/task4/Augmented_Images/Tamil_augg')  \n",
        "if path.exists('/content/drive/MyDrive/tsk4/task4/bengali_aug') == False:\n",
        "  os.mkdir('/content/drive/MyDrive/tsk4/task4/Augmented_Images/Bengali_augg')  "
      ],
      "metadata": {
        "id": "Eorn1HVzYsDO"
      },
      "execution_count": 20,
      "outputs": []
    },
    {
      "cell_type": "code",
      "source": [
        "dct = {}\n",
        "\n",
        "train_dir ='/content/drive/MyDrive/tsk4/task4/data/'\n",
        "\n",
        "list_subfolders_with_paths = [f.path for f in os.scandir(train_dir) if f.is_dir()]\n",
        "\n",
        "for i in list_subfolders_with_paths:\n",
        "    if i.split('/')[3] in ['hindi','kannada','tamil', 'bengali']:\n",
        "        dct[i.split('/')[3]] = [f.path for f in os.scandir(i) if f.path.endswith('.jpg')]\n",
        "\n",
        "dataset = pd.DataFrame.from_dict(dct, orient='index').transpose()"
      ],
      "metadata": {
        "id": "tGqj8DLhZAki"
      },
      "execution_count": 27,
      "outputs": []
    },
    {
      "cell_type": "code",
      "source": [
        "file_list = {}\n",
        "for idx in dataset:\n",
        "    file_list[idx] = dataset[idx].values"
      ],
      "metadata": {
        "id": "llNzPkSNZgt0"
      },
      "execution_count": 28,
      "outputs": []
    },
    {
      "cell_type": "markdown",
      "source": [
        "##Augmenting each data in every subfolder"
      ],
      "metadata": {
        "id": "3sHCFJ-iJi3M"
      }
    },
    {
      "cell_type": "code",
      "source": [
        "for idx, files in file_list.items():\n",
        "    for file in files : \n",
        "      # print(file)\n",
        "      if file != None:\n",
        "        img = load_img(file)  \n",
        "        x = img_to_array(img)  \n",
        "        x = x.reshape((1,) + x.shape) \n",
        "\n",
        "        if idx=='hindi':\n",
        "          i = 0\n",
        "          for batch in datagen.flow(x, batch_size=1,\n",
        "                                    save_to_dir='/content/drive/MyDrive/tsk4/task4/Augmented_Images/Hindi_augg', save_prefix='hindi', save_format='jpg'):\n",
        "              i += 1\n",
        "              if i > 20:\n",
        "                  break  \n",
        "        elif idx=='kannada':\n",
        "          i = 0\n",
        "          for batch in datagen.flow(x, batch_size=1,\n",
        "                                    save_to_dir='/content/drive/MyDrive/tsk4/task4/Augmented_Images/kannada_augg', save_prefix='hindi', save_format='jpg'):\n",
        "              i += 1\n",
        "              if i > 20:\n",
        "                  break\n",
        "        elif idx == 'tamil':\n",
        "            i = 0\n",
        "            for batch in datagen.flow(x, batch_size=1,\n",
        "                                      save_to_dir='/content/drive/MyDrive/tsk4/task4/Augmented_Images/Tamil_augg', save_prefix='tamil', save_format='jpg'):\n",
        "                i += 1\n",
        "                if i > 20:\n",
        "                    break  \n",
        "        else:\n",
        "            i = 0\n",
        "            for batch in datagen.flow(x, batch_size=1,\n",
        "                                      save_to_dir='/content/drive/MyDrive/tsk4/task4/Augmented_Images/Bengali_augg', save_prefix='bengali', save_format='jpg'):\n",
        "                i += 1\n",
        "                if i > 20:\n",
        "                    break \n"
      ],
      "metadata": {
        "id": "F7LJCKAmZi3O"
      },
      "execution_count": 30,
      "outputs": []
    },
    {
      "cell_type": "markdown",
      "source": [
        "Dataset Used- [Task4](https://drive.google.com/drive/folders/1Sf8Qj8pEu_wpdw8PYElsBJYJq8x-HQkI)"
      ],
      "metadata": {
        "id": "iRZsNnCLKO4f"
      }
    }
  ]
}